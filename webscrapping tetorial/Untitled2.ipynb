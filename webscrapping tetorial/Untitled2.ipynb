{
 "cells": [
  {
   "cell_type": "code",
   "execution_count": 3,
   "id": "360b9657-a38d-482c-8844-0d0c896f0e57",
   "metadata": {},
   "outputs": [],
   "source": [
    "from selenium import webdriver\n",
    "from selenium.webdriver.chrome.options import Options\n",
    "from selenium.webdriver.chrome.service import Service\n",
    "from selenium.webdriver.common.by import By\n",
    "from webdriver_manager.chrome import ChromeDriverManager\n",
    "import time\n",
    "\n",
    "options = Options()\n",
    "options.add_experimental_option(\"detach\",True)\n",
    "\n",
    "driver = webdriver.Chrome(service=Service(ChromeDriverManager().install()),options= options)\n",
    "\n",
    "driver.get('https://www.youtube.com/results?search_query=top+rank+vadios+on+youtube')"
   ]
  },
  {
   "cell_type": "code",
   "execution_count": 14,
   "id": "e6acf1a3-7845-4822-a42d-b6f4616a3ced",
   "metadata": {},
   "outputs": [
    {
     "name": "stdout",
     "output_type": "stream",
     "text": [
      "<selenium.webdriver.chrome.webdriver.WebDriver (session=\"918c7dbbcabfe5babc9d59211d653fa7\")>\n"
     ]
    }
   ],
   "source": [
    "print(driver)\n",
    "# data1 = driver.find_element(By.CLASS_NAME,\"yt-simple-endpoint style-scope ytd-video-renderer\")"
   ]
  },
  {
   "cell_type": "code",
   "execution_count": null,
   "id": "8b5b43c0-facd-454d-9e24-4ea59e5748c2",
   "metadata": {},
   "outputs": [],
   "source": []
  }
 ],
 "metadata": {
  "kernelspec": {
   "display_name": "Python 3 (ipykernel)",
   "language": "python",
   "name": "python3"
  },
  "language_info": {
   "codemirror_mode": {
    "name": "ipython",
    "version": 3
   },
   "file_extension": ".py",
   "mimetype": "text/x-python",
   "name": "python",
   "nbconvert_exporter": "python",
   "pygments_lexer": "ipython3",
   "version": "3.11.7"
  }
 },
 "nbformat": 4,
 "nbformat_minor": 5
}
