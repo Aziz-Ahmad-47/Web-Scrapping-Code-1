{
 "cells": [
  {
   "cell_type": "code",
   "execution_count": 47,
   "id": "2694c46c-badf-425c-a47d-13529319fcb8",
   "metadata": {},
   "outputs": [
    {
     "name": "stdout",
     "output_type": "stream",
     "text": [
      "Hot Shein Tiktok 4 in 1 Deep Cleansing Face Cleansing Brush Silicone New USB Cable Charging Travel Arrival Electric Face Brush\n",
      "$6.20-8.40\n",
      "Min. Order: 50 pieces\n",
      "High-Speed Negative Ion Mini Wireless Portable Hot Hair Comb Flat Iron Hair Straightener Brush Multifunctional Styling Tool\n",
      "$4.15-4.50\n",
      "Min. Order: 100 pieces\n",
      "Professional 1800w High Speed Ionic Hair Dryer With 110000rpm for Salon Use Foldable Factory Price\n",
      "$22.45-28.00\n",
      "Min. Order: 20 pieces\n",
      "High Speed Hair Dryer Foldable Blow Dryer 1800W Powerful Hairdryer Secador De Pelo Professional Hair Dryer for Salon Travel\n",
      "$22.45-28.00\n",
      "Min. Order: 20 pieces\n"
     ]
    }
   ],
   "source": [
    "from selenium import webdriver\n",
    "from selenium.webdriver.chrome.options import Options\n",
    "from selenium.webdriver.chrome.service import Service\n",
    "from selenium.webdriver.common.by import By\n",
    "from webdriver_manager.chrome import ChromeDriverManager\n",
    "import time\n",
    "\n",
    "options = Options()\n",
    "options.add_experimental_option(\"detach\",True)\n",
    "\n",
    "driver = webdriver.Chrome(service=Service(ChromeDriverManager().install()),options= options)\n",
    "\n",
    "driver.get('https://canvor.en.alibaba.com/productlist.html?spm=a2700.shop_pl.88.18.646d7121q2dwWQ')\n",
    "# for i in range(1,5):\n",
    "# driver.get('https://canvor.en.alibaba.com/productlist-2.html?filter=all&sortType=modified-desc&spm=a2700.shop_pl.41413.dbtmnavgo')\n",
    "# driver.maximize_window()\n",
    "\n",
    "for i in range(1,5):\n",
    "\n",
    "    tital = driver.find_element('xpath',f\"//html/body/div[2]/div[4]/div[2]/div[2]/div/div/div/div/div/div[2]/div/div[1]/div[{i}]/div[1]/div[2]/a/span\")\n",
    "                                           # /html/body/div[2]/div[4]/div[2]/div[2]/div/div/div/div/div/div[2]/div/div[1]/div[2]/div[1]/div[2]/a/span\n",
    "                                            /html/body/div[2]/div[4]/div[2]/div[2]/div/div/div/div/div/div[2]/div/div[2]/div[1]/div[1]/div[2]/a/span\n",
    "    print(tital.text)\n",
    "    \n",
    "    # time.sleep(3)\n",
    "    # page1.click()\n",
    "    # time.sleep(2)\n",
    "    price = driver.find_element(By.XPATH,f\"/html/body/div[2]/div[4]/div[2]/div[2]/div/div/div/div/div/div[2]/div/div[1]/div[{i}]/div[1]/div[3]/span\")\n",
    "                                           /html/body/div[2]/div[4]/div[2]/div[2]/div/div/div/div/div/div[2]/div/div[2]/div[1]/div[1]/div[3]/span\n",
    "    print(price.text)\n",
    "    #                                         # /html/body/div[2]/div[4]/div[2]/div[2]/div/div/div/div/div/div[2]/div/div[1]/div[2]/div[1]/div[3]/span\n",
    "    Min_ord = driver.find_element(By.XPATH,f\"/html/body/div[2]/div[4]/div[2]/div[2]/div/div/div/div/div/div[2]/div/div[1]/div[{i}]/div[1]/div[4]\")\n",
    "    print(Min_ord.text)\n",
    "                                           # /html/body/div[2]/div[4]/div[2]/div[2]/div/div/div/div/div/div[2]/div/div[1]/div[2]/div[1]/div[4]\n",
    "# page2 = driver.find_element(By.XPATH,\"/html/body/div[2]/div[4]/div[2]/div[2]/div/div/div/div/div/div[2]/div/div[1]/div[1]/div[1]/div[3]/span\")\n",
    "# time.sleep(5)\n",
    "# page2.click()"
   ]
  },
  {
   "cell_type": "code",
   "execution_count": 26,
   "id": "af03593a-358d-4c74-ab53-e61b6103a6be",
   "metadata": {},
   "outputs": [
    {
     "name": "stdout",
     "output_type": "stream",
     "text": [
      "<selenium.webdriver.remote.webelement.WebElement (session=\"92292e62adcc757b9ff1bf629e5f81cb\", element=\"f.A41C2F9E5E83FC3F98574FF7228D23E2.d.5E175204D91D0BA0E2B048873224167B.e.58\")>\n"
     ]
    }
   ],
   "source": [
    "print(page3)"
   ]
  },
  {
   "cell_type": "code",
   "execution_count": 28,
   "id": "dc22c5ab-6a60-494c-9fbe-513881dcaaee",
   "metadata": {},
   "outputs": [
    {
     "data": {
      "text/plain": [
       "'Min. Order: 50 pieces'"
      ]
     },
     "execution_count": 28,
     "metadata": {},
     "output_type": "execute_result"
    }
   ],
   "source": [
    "page3.text"
   ]
  },
  {
   "cell_type": "code",
   "execution_count": null,
   "id": "89988508-e974-4668-9ab4-f13a2ebe5000",
   "metadata": {},
   "outputs": [],
   "source": []
  },
  {
   "cell_type": "code",
   "execution_count": 42,
   "id": "09bc5677-6aee-433e-9087-f5b6a6c8243f",
   "metadata": {},
   "outputs": [
    {
     "name": "stdout",
     "output_type": "stream",
     "text": [
      "1\n",
      "2\n",
      "3\n",
      "4\n"
     ]
    }
   ],
   "source": [
    "for i in range(1,5):\n",
    "    print(i)"
   ]
  },
  {
   "cell_type": "code",
   "execution_count": 54,
   "id": "f995cdf6-9545-4061-a326-93eb7fc867da",
   "metadata": {},
   "outputs": [
    {
     "name": "stdout",
     "output_type": "stream",
     "text": [
      "Hot Shein Tiktok 4 in 1 Deep Cleansing Face Cleansing Brush Silicone New USB Cable Charging Travel Arrival Electric Face Brush | $6.20-8.40 | Min. Order: 50 pieces\n",
      "High-Speed Negative Ion Mini Wireless Portable Hot Hair Comb Flat Iron Hair Straightener Brush Multifunctional Styling Tool | $4.15-4.50 | Min. Order: 100 pieces\n",
      "Professional 1800w High Speed Ionic Hair Dryer With 110000rpm for Salon Use Foldable Factory Price | $22.45-28.00 | Min. Order: 20 pieces\n",
      "High Speed Hair Dryer Foldable Blow Dryer 1800W Powerful Hairdryer Secador De Pelo Professional Hair Dryer for Salon Travel | $22.45-28.00 | Min. Order: 20 pieces\n",
      "Home Use Beauty Equipment Hair Brush Scalp Massager Comb Electric Vibrate Red Light Meridian Therapy Anti Loss Comb | $4.70-5.14 | Min. Order: 100 pieces\n",
      "5 Levels Vibration Facial Neck Massager Electric Gua Sha Board EMS Micro-Current Wireless Handheld Facial Beauty Massager | $9.89-11.20 | Min. Order: 5 pieces\n",
      "Professional Anti Aging Microcurrent Facial Device Face Roller Face Massager Tools for Skin Care at Home | $5.50-6.60 | Min. Order: 50 pieces\n",
      "Microcurrent Heating V Shape Lifting Face Toning Device EMS Vibration Face Neck Massager Skin Firming Microcurrent Facial Device | $6.23-8.00 | Min. Order: 10 pieces\n",
      "Face Lift Rejuvenation Skin Tightening Wrinkle Beauty Device EMS Face Roller Massagers Microcurrent Facial Massager | $5.50-6.60 | Min. Order: 50 pieces\n",
      "Home Use Beauty Equipment V-Shaped Face Lifting Heating Ems Facial Massager Skin Rejuvenation | $4.80-7.50 | Min. Order: 10 pieces\n",
      "Professional Anti-Aging Microcurrent Facial Device Stainless Steel ABS Face Roller Massager Home Skin Care Lift Function Neck | $6.40-7.00 | Min. Order: 1 piece\n",
      "High Quality Full Professional Nail Art Machine Private Label Automatic Electric Nail Polish Printer Kits | $399.00-599.00 | Min. Order: 2 pieces\n",
      "Portable 3D Nail Printer Machine WiFi Supported DIY 30s Home Nail Art Girls Beauty Personal Care 30s Done Printing Rying Nail | $399.00-599.00 | Min. Order: 1 piece\n",
      "DIY Nail Art Printer Control Through Free Mobile App 3d Professional Digital Nail Art Printer Manicure Machine | $399.00-599.00 | Min. Order: 1 piece\n",
      "Hot Selling Portable Mobile Nail Printer 3D Art Digital Photo Wifi Control Nail Salon Intelligent Style Electric Power Supply | $399.00-499.00 | Min. Order: 1 piece\n",
      "Hottest 3D Nail Printer Art Stamping Machine Desktop Nail Printer Intelligent Electric Nails Printing Machine | $685.00-999.00 | Min. Order: 1 piece\n",
      "Data saved to alibaba_products.xlsx\n"
     ]
    }
   ],
   "source": [
    "from selenium import webdriver\n",
    "from selenium.webdriver.chrome.options import Options\n",
    "from selenium.webdriver.chrome.service import Service\n",
    "from selenium.webdriver.common.by import By\n",
    "from webdriver_manager.chrome import ChromeDriverManager\n",
    "import pandas as pd\n",
    "\n",
    "# Configure Chrome options\n",
    "options = Options()\n",
    "options.add_experimental_option(\"detach\", True)\n",
    "\n",
    "# Initialize WebDriver\n",
    "driver = webdriver.Chrome(service=Service(ChromeDriverManager().install()), options=options)\n",
    "driver.get('https://canvor.en.alibaba.com/productlist.html?spm=a2700.shop_pl.88.18.646d7121q2dwWQ')\n",
    "\n",
    "# List to store product data\n",
    "products = []\n",
    "\n",
    "for j in range(1, 5):  # Adjust the range as needed\n",
    "    for i in range(1, 5):  # Adjust the range as needed\n",
    "        try:\n",
    "            title = driver.find_element(By.XPATH, f\"//html/body/div[2]/div[4]/div[2]/div[2]/div/div/div/div/div/div[2]/div/div[{j}]/div[{i}]/div[1]/div[2]/a/span\").text\n",
    "            price = driver.find_element(By.XPATH, f\"/html/body/div[2]/div[4]/div[2]/div[2]/div/div/div/div/div/div[2]/div/div[{j}]/div[{i}]/div[1]/div[3]/span\").text\n",
    "            min_order = driver.find_element(By.XPATH, f\"/html/body/div[2]/div[4]/div[2]/div[2]/div/div/div/div/div/div[2]/div/div[{j}]/div[{i}]/div[1]/div[4]\").text\n",
    "    \n",
    "            print(f\"{title} | {price} | {min_order}\")\n",
    "            products.append([title, price, min_order])\n",
    "    \n",
    "        except Exception as e:\n",
    "            print(f\"Error extracting data for product\")\n",
    "\n",
    "# Convert to a DataFrame and save to Excel\n",
    "df = pd.DataFrame(products, columns=[\"Title\", \"Price\", \"Minimum Order\"])\n",
    "df.to_excel(\"alibaba_products.xlsx\", index=False)\n",
    "\n",
    "print(\"Data saved to alibaba_products.xlsx\")\n",
    "\n",
    "# Close the driver\n",
    "driver.quit()\n"
   ]
  },
  {
   "cell_type": "code",
   "execution_count": 3,
   "id": "594eaebb-6d91-4718-a30e-c41f888e1772",
   "metadata": {},
   "outputs": [
    {
     "name": "stdout",
     "output_type": "stream",
     "text": [
      "None\n",
      "None\n"
     ]
    }
   ],
   "source": [
    "import shutil\n",
    "print(shutil.which(\"chrome\"))\n",
    "print(shutil.which(\"google-chrome\"))"
   ]
  },
  {
   "cell_type": "code",
   "execution_count": null,
   "id": "2d9527bf-eff4-4937-a989-3d410a9dea0d",
   "metadata": {},
   "outputs": [],
   "source": []
  },
  {
   "cell_type": "code",
   "execution_count": null,
   "id": "9c720045-4804-4341-9d6c-89babee83243",
   "metadata": {},
   "outputs": [],
   "source": []
  },
  {
   "cell_type": "code",
   "execution_count": null,
   "id": "5c690a86-6112-4111-a250-fd30abc13e1f",
   "metadata": {},
   "outputs": [],
   "source": []
  }
 ],
 "metadata": {
  "kernelspec": {
   "display_name": "Python 3 (ipykernel)",
   "language": "python",
   "name": "python3"
  },
  "language_info": {
   "codemirror_mode": {
    "name": "ipython",
    "version": 3
   },
   "file_extension": ".py",
   "mimetype": "text/x-python",
   "name": "python",
   "nbconvert_exporter": "python",
   "pygments_lexer": "ipython3",
   "version": "3.11.7"
  }
 },
 "nbformat": 4,
 "nbformat_minor": 5
}
